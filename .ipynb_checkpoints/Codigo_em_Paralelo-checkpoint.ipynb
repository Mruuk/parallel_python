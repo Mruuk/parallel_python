{
 "cells": [
  {
   "cell_type": "markdown",
   "metadata": {
    "id": "-D_G4NvooZ30"
   },
   "source": [
    "# Formas de multi-processing com python"
   ]
  },
  {
   "cell_type": "markdown",
   "metadata": {
    "id": "VDe5pQnSogi1"
   },
   "source": [
    "## Joblib"
   ]
  },
  {
   "cell_type": "code",
   "execution_count": 19,
   "metadata": {
    "colab": {
     "base_uri": "https://localhost:8080/"
    },
    "id": "5o1VHer2SOZJ",
    "outputId": "e99fc6c0-fade-46d2-9123-7fefbdb57f53"
   },
   "outputs": [
    {
     "name": "stdout",
     "output_type": "stream",
     "text": [
      "Faturamento da Loja Norte Shopping foi de R$101,491.00\n",
      "Faturamento da Loja Shopping Iguatemi Fortaleza foi de R$124,182.00\n",
      "Faturamento da Loja Novo Shopping Ribeirão Preto foi de R$99,703.00\n",
      "Faturamento da Loja Shopping Eldorado foi de R$124,339.00\n",
      "Faturamento da Loja Shopping Recife foi de R$131,871.00\n",
      "Faturamento da Loja Shopping SP Market foi de R$110,833.00\n",
      "Faturamento da Loja Rio Mar Shopping Fortaleza foi de R$127,890.00\n",
      "Faturamento da Loja Shopping Vila Velha foi de R$115,896.00\n",
      "Faturamento da Loja Shopping Morumbi foi de R$117,936.00\n",
      "Faturamento da Loja Rio Mar Recife foi de R$139,869.00\n",
      "Faturamento da Loja Ribeirão Shopping foi de R$112,936.00\n",
      "Faturamento da Loja Iguatemi Esplanada foi de R$103,342.00\n",
      "Faturamento da Loja Parque Dom Pedro Shopping foi de R$122,055.00\n",
      "Faturamento da Loja Shopping Center Interlagos foi de R$103,821.00\n",
      "Faturamento da Loja Palladium Shopping Curitiba foi de R$120,621.00\n",
      "Faturamento da Loja Shopping União de Osasco foi de R$116,032.00\n",
      "Faturamento da Loja Shopping Barra foi de R$103,148.00\n",
      "Faturamento da Loja Iguatemi Campinas foi de R$149,959.00\n",
      "Faturamento da Loja Shopping Midway Mall foi de R$105,269.00\n",
      "Faturamento da Loja Passei das Águas Shopping foi de R$112,089.00\n",
      "Faturamento da Loja Salvador Shopping foi de R$129,156.00\n",
      "Faturamento da Loja Shopping Ibirapuera foi de R$107,907.00\n",
      "Faturamento da Loja Shopping Center Leste Aricanduva foi de R$86,156.00\n",
      "Tempo de execução: 4.244049072265625\n"
     ]
    }
   ],
   "source": [
    "import requests\n",
    "import time\n",
    "import os\n",
    "import pandas as pd\n",
    "\n",
    "tempo_inicial = time.time()\n",
    "\n",
    "## Google Colab\n",
    "#arquivos = os.listdir(\"/content\")\n",
    "\n",
    "##Jupyter\n",
    "arquivos = os.listdir()\n",
    "\n",
    "tabela_final = pd.DataFrame()\n",
    "for arquivo in arquivos:\n",
    "    if \"xlsx\" in arquivo:\n",
    "        tabela = pd.read_excel(arquivo)\n",
    "        faturamento = tabela[\"Valor Final\"].sum()\n",
    "        print(f\"Faturamento da Loja {arquivo.replace('.xlsx', '')} foi de R${faturamento:,.2f}\")\n",
    "        \n",
    "print(f\"Tempo de execução: {time.time() - tempo_inicial}\")"
   ]
  },
  {
   "cell_type": "markdown",
   "metadata": {
    "id": "xzF6PP1gVRts"
   },
   "source": [
    "### Utilizano o joblib, vamos paralelizar o processo de scrapping as tabelas excel"
   ]
  },
  {
   "cell_type": "markdown",
   "metadata": {
    "id": "mJFq0vyJWEnF"
   },
   "source": [
    "\n",
    "Para utilizar o Parallel, é necessário algumas alterações, como o caso o laço de repetição, onde o transformamos em uma função, no qual seu parâmetro será a variável o laço:\n",
    "```python\n",
    "for arquivo in arquivos:\n",
    "```\n",
    "```python\n",
    "def calcular_faturamento(arquivo):\n",
    "```\n",
    "\n"
   ]
  },
  {
   "cell_type": "markdown",
   "metadata": {
    "id": "L_iwLwGUWq6z"
   },
   "source": [
    "Mantemos todo o código  que estava entro o laço de repetição entro da função:\n",
    "\n",
    "```python\n",
    "def calcular_faturamento(arquivo):\n",
    "    if \"xlsx\" in arquivo:\n",
    "        tabela = pd.read_excel(arquivo)\n",
    "        faturamento = tabela[\"Valor Final\"].sum()\n",
    "        print(f\"Faturamento da Loja {arquivo.replace('.xlsx', '')} foi de R${faturamento:,.2f}\")\n",
    "```"
   ]
  },
  {
   "cell_type": "markdown",
   "metadata": {
    "id": "vG1M4_X7XJja"
   },
   "source": [
    "Outro ponto é que os prints não funcionam quando rodamos um processo em paralelo, precisamos substituir os prints por um return:\n",
    "\n",
    "Nossa função será o processo rodao em paralelo\n",
    "```python\n",
    "def calcular_faturamento(arquivo):\n",
    "    if \"xlsx\" in arquivo:\n",
    "        tabela = pd.read_excel(arquivo)\n",
    "        faturamento = tabela[\"Valor Final\"].sum()\n",
    "        return f\"Faturamento da Loja {arquivo.replace('.xlsx', '')} foi de R${faturamento:,.2f}\"\n",
    "\n",
    "```\n",
    "Com isso não perdemos a informação que desejamos"
   ]
  },
  {
   "cell_type": "markdown",
   "metadata": {
    "id": "mYx0woI5Y9CX"
   },
   "source": [
    "Criamos uma variavel resultados para armazenas as informações retornadas a função e só apois o processo finalizado printamos a variável resultado\n",
    "\n",
    "``` python\n",
    "def calcular_faturamento(arquivo):\n",
    "    if \"xlsx\" in arquivo:\n",
    "        tabela = pd.read_excel(arquivo)\n",
    "        faturamento = tabela[\"Valor Final\"].sum()\n",
    "        return f\"Faturamento da Loja {arquivo.replace('.xlsx', '')} foi de R${faturamento:,.2f}\"\n",
    "\n",
    "resultado = \n",
    "print(resultado)\n",
    "```"
   ]
  },
  {
   "cell_type": "markdown",
   "metadata": {
    "id": "QGoyE9rhZoqR"
   },
   "source": [
    "Na variável resultado, vamos aplicar o parallel, ele será responsável por, pegar toda a lista de arquivos, rodar ela em paralelo e armazenar o resultado de cada execução dentro da variável resultado, transformando assim a mesmo em uma lista com todos os resultados para cada um dos arquivos\n",
    "\n",
    "``` python\n",
    "def calcular_faturamento(arquivo):\n",
    "    if \"xlsx\" in arquivo:\n",
    "        tabela = pd.read_excel(arquivo)\n",
    "        faturamento = tabela[\"Valor Final\"].sum()\n",
    "        return f\"Faturamento da Loja {arquivo.replace('.xlsx', '')} foi de R${faturamento:,.2f}\"\n",
    "\n",
    "resultado = Parallel\n",
    "print(resultado)\n",
    "```"
   ]
  },
  {
   "cell_type": "markdown",
   "metadata": {
    "id": "WhcVcqqzalzX"
   },
   "source": [
    "no parallel, vamos definir duas informações\n",
    "\n",
    "```python\n",
    "resultado = Parallel()()\n",
    "```\n",
    " No primeiro parênteses vamos passar o parâmetro n_jobs, sendo ele o número de processo em paralelo que queremos rodar, lembrando que cada máquina tem sua limitação de threads, consulte antes.\n",
    "\n",
    " - Info: No n_jobs, ao passar -1 definimos que queremos o máximo de processos rodando em paralelo que a máquina suportar.\n",
    "\n",
    " Por precaução foi definido apenas 2 threads\n",
    "\n",
    "```python\n",
    "resultado = Parallel(n_jobs=2)()\n",
    "```\n",
    "\n",
    "A segunda informação necessária é o delayed, o mesmo necessita de duas informações assim como o parallel, sendo a primeira informação/parêntese a função criada, já no sengundo parâmentro passaremos o arquivo. Arquivo esse usado no laço de repetição que posteriormente foi substituido pela função.\n",
    "\n",
    "```python\n",
    "resultado = Parallel(n_jobs=2)(delayed(calcular_faturamento)(arquivo))\n",
    "```\n",
    "\n",
    "Definido os parâmetros, é preciso informar de onde vem o paramêtro arquivo passado para o delayed. Dessa forma passando o list comprehension dele.\n",
    "\n",
    "Basicamente criamos um laço de repetição em uma única linha de comando \n",
    "\n",
    "```python\n",
    "resultado = Parallel(n_jobs=2)(delayed(calcular_faturamento)(arquivo) for arquivo in arquivos)\n",
    "```\n",
    "\n",
    "Interpretano o código: delayed passa a função, passa a variável que é parâmetro da função também, assim passando um list comprehension para definir quem é essa variável, no qual temos, para cada arquivo dentro da minha lista de arquivos, vou passar o arquivo(variável arquivo) como referência para minha função calcular_faturamento e assim rodando em paralelo de dois em dois"
   ]
  },
  {
   "cell_type": "code",
   "execution_count": 3,
   "metadata": {
    "colab": {
     "base_uri": "https://localhost:8080/"
    },
    "id": "85D9a_nCVc7p",
    "outputId": "75c9634b-ad79-4b2b-984b-417eabc04f69"
   },
   "outputs": [
    {
     "name": "stdout",
     "output_type": "stream",
     "text": [
      "Faturamento da Loja Norte Shopping foi de R$101,491.00\n",
      "Faturamento da Loja Shopping Iguatemi Fortaleza foi de R$124,182.00\n",
      "Faturamento da Loja Novo Shopping Ribeirão Preto foi de R$99,703.00\n",
      "Faturamento da Loja Shopping Eldorado foi de R$124,339.00\n",
      "Faturamento da Loja Shopping Recife foi de R$131,871.00\n",
      "Faturamento da Loja Shopping SP Market foi de R$110,833.00\n",
      "Faturamento da Loja Rio Mar Shopping Fortaleza foi de R$127,890.00\n",
      "Faturamento da Loja Shopping Vila Velha foi de R$115,896.00\n",
      "Faturamento da Loja Shopping Morumbi foi de R$117,936.00\n",
      "Faturamento da Loja Rio Mar Recife foi de R$139,869.00\n",
      "Faturamento da Loja Ribeirão Shopping foi de R$112,936.00\n",
      "Faturamento da Loja Iguatemi Esplanada foi de R$103,342.00\n",
      "Faturamento da Loja Parque Dom Pedro Shopping foi de R$122,055.00\n",
      "Faturamento da Loja Shopping Center Interlagos foi de R$103,821.00\n",
      "Faturamento da Loja Palladium Shopping Curitiba foi de R$120,621.00\n",
      "Faturamento da Loja Shopping União de Osasco foi de R$116,032.00\n",
      "Faturamento da Loja Shopping Barra foi de R$103,148.00\n",
      "Faturamento da Loja Iguatemi Campinas foi de R$149,959.00\n",
      "Faturamento da Loja Shopping Midway Mall foi de R$105,269.00\n",
      "Faturamento da Loja Passei das Águas Shopping foi de R$112,089.00\n",
      "Faturamento da Loja Salvador Shopping foi de R$129,156.00\n",
      "Faturamento da Loja Shopping Ibirapuera foi de R$107,907.00\n",
      "Faturamento da Loja Shopping Center Leste Aricanduva foi de R$86,156.00\n",
      "Demorou: 4.140476942062378\n"
     ]
    }
   ],
   "source": [
    "from joblib import Parallel, delayed\n",
    "\n",
    "tempo_inicial = time.time()\n",
    "\n",
    "\n",
    "## Google Colab\n",
    "#arquivos = os.listdir(\"/content\")\n",
    "\n",
    "##Jupyter\n",
    "arquivos = os.listdir()\n",
    "\n",
    "tabela_final = pd.DataFrame()\n",
    "def calcular_faturamento(arquivo):\n",
    "    if \"xlsx\" in arquivo:\n",
    "        tabela = pd.read_excel(arquivo)\n",
    "        faturamento = tabela[\"Valor Final\"].sum()\n",
    "        return f\"Faturamento da Loja {arquivo.replace('.xlsx', '')} foi de R${faturamento:,.2f}\"\n",
    "\n",
    "resultado = Parallel(n_jobs=2)(delayed(calcular_faturamento)(arquivo) for arquivo in arquivos)\n",
    "\n",
    "resultado = list(filter(lambda item: item is not None, resultado))\n",
    "\n",
    "print(*resultado, sep = '\\n')\n",
    "        \n",
    "print(f\"Demorou: {time.time() - tempo_inicial}\")"
   ]
  },
  {
   "cell_type": "markdown",
   "metadata": {
    "id": "RkFHUt3Igu7Q"
   },
   "source": [
    "### conclusão\n",
    "\n",
    "Ao analisar o mesmo código rodando em sequencial e em paralelo, nota-se que o custo computacional para o sequencial foi menor ao se comparar com o paralelo, isso ocoreu devido ao fato de que o processo de paralelizar códigos não deve ser feito para qualquer código, ele vem como um recurso de melhoria de desempenho, dito isso, é necessário analisar se compensa ou não a utilização de multi-processing. \n",
    "\n",
    "Em situações no qual o código demora um tempo ínfimo, não há necessidade, pois o foco está em otimizar códigos com uma duração substancialmente grande.\n",
    "\n",
    "OBS: Rode o código mais de uma vez e observe o tempo dde execução."
   ]
  },
  {
   "cell_type": "markdown",
   "metadata": {
    "id": "sFzJnZtwoWXK"
   },
   "source": [
    "## Threading"
   ]
  },
  {
   "cell_type": "markdown",
   "metadata": {
    "id": "47-vwfzspYAH"
   },
   "source": [
    "### Código sequêncial"
   ]
  },
  {
   "cell_type": "code",
   "execution_count": 4,
   "metadata": {
    "colab": {
     "base_uri": "https://localhost:8080/"
    },
    "id": "86Jewmz7opm5",
    "outputId": "7842e7b2-987f-4c38-ae78-63c7c5414033"
   },
   "outputs": [
    {
     "name": "stdout",
     "output_type": "stream",
     "text": [
      "tarefa 1 count: 0\n",
      "tarefa 1 count: 1\n",
      "tarefa 1 count: 2\n",
      "tarefa 1 count: 3\n",
      "tarefa 1 count: 4\n",
      "tarefa 1 count: 5\n",
      "tarefa 1 count: 6\n",
      "tarefa 1 count: 7\n",
      "tarefa 1 count: 8\n",
      "tarefa 1 count: 9\n",
      "tarefa 2 count: 0\n",
      "tarefa 2 count: 1\n",
      "tarefa 2 count: 2\n",
      "tarefa 2 count: 3\n",
      "tarefa 2 count: 4\n",
      "tarefa 2 count: 5\n",
      "tarefa 2 count: 6\n",
      "tarefa 2 count: 7\n",
      "tarefa 2 count: 8\n",
      "tarefa 2 count: 9\n"
     ]
    }
   ],
   "source": [
    "def tarefa_1():\n",
    "\tx = 0\n",
    "\twhile x < 10:\n",
    "\t\tprint(f\"tarefa 1 count: {x}\")\n",
    "\t\tx+=1\n",
    "\n",
    "def tarefa_2():\n",
    "\ty = 0\n",
    "\twhile y < 10:\n",
    "\t\tprint(f\"tarefa 2 count: {y}\")\n",
    "\t\ty+=1\n",
    "\n",
    "tarefa_1()\n",
    "tarefa_2()"
   ]
  },
  {
   "cell_type": "markdown",
   "metadata": {
    "id": "5acgG0ybpdQR"
   },
   "source": [
    "### Código parallelo"
   ]
  },
  {
   "cell_type": "code",
   "execution_count": 6,
   "metadata": {
    "colab": {
     "base_uri": "https://localhost:8080/"
    },
    "id": "N20BBvwapfe2",
    "outputId": "78151d33-3eed-43db-ee88-b825e8a61e91"
   },
   "outputs": [
    {
     "name": "stdout",
     "output_type": "stream",
     "text": [
      "tarefa 1 count: 0\n",
      "tarefa 1 count: 1\n",
      "tarefa 1 count: 2\n",
      "tarefa 1 count: 3\n",
      "tarefa 1 count: 4\n",
      "tarefa 1 count: 5\n",
      "tarefa 1 count: 6\n",
      "tarefa 1 count: 7\n",
      "tarefa 1 count: 8\n",
      "tarefa 1 count: 9\n",
      "tarefa 2 count: 0\n",
      "tarefa 2 count: 1\n",
      "tarefa 2 count: 2\n",
      "tarefa 2 count: 3\n",
      "tarefa 2 count: 4\n",
      "tarefa 2 count: 5\n",
      "tarefa 2 count: 6\n",
      "tarefa 2 count: 7\n",
      "tarefa 2 count: 8\n",
      "tarefa 2 count: 9\n"
     ]
    }
   ],
   "source": [
    "import threading\n",
    "\n",
    "def tarefa_1():\n",
    "\tx = 0\n",
    "\twhile x < 10:\n",
    "\t\tprint(f\"tarefa 1 count: {x}\")\n",
    "\t\tx+=1\n",
    "\n",
    "def tarefa_2():\n",
    "\ty = 0\n",
    "\twhile y < 10:\n",
    "\t\tprint(f\"tarefa 2 count: {y}\")\n",
    "\t\ty+=1\n",
    "\n",
    "threading.Thread(target=tarefa_1).start()\n",
    "tarefa_2()"
   ]
  },
  {
   "cell_type": "markdown",
   "metadata": {
    "id": "ZG1LE65ppxfk"
   },
   "source": [
    "## Método ThreadPool"
   ]
  },
  {
   "cell_type": "code",
   "execution_count": 8,
   "metadata": {
    "colab": {
     "base_uri": "https://localhost:8080/"
    },
    "id": "03tvFc2vp0bE",
    "outputId": "9be98335-14c1-4690-d2e5-003887729fdf"
   },
   "outputs": [
    {
     "name": "stdout",
     "output_type": "stream",
     "text": [
      "Meu nome é: Adson\n",
      "Meu nome é: Gabriel\n",
      "Meu nome é: Siqueira\n",
      "Meu nome é: Ronaldo\n",
      "Meu nome é: Gleilson\n",
      "Meu nome é: Emerson\n",
      "Meu nome é: Joselito\n",
      "Meu nome é: Piloto\n",
      "Meu nome é: Kleber\n",
      "Meu nome é: Mauricio\n",
      "process: tempo de execução da tradução: 20.049009561538696\n",
      "Meu nome é: Adson\n",
      "Meu nome é: Gabriel\n",
      "Meu nome é: Siqueira\n",
      "Meu nome é: Ronaldo\n",
      "Meu nome é: Gleilson\n",
      "Meu nome é: Emerson\n",
      "Meu nome é: Joselito\n",
      "Meu nome é: Piloto\n",
      "Meu nome é: Kleber\n",
      "Meu nome é: Mauricio\n",
      "tempo de execução da tradução: 20.04682731628418\n"
     ]
    }
   ],
   "source": [
    "from random import randint\n",
    "from time import sleep, time\n",
    "from multiprocessing.pool import ThreadPool\n",
    "from multiprocessing.process import current_process\n",
    "import os\n",
    "\n",
    "def print_names(name):\n",
    "    sleep(2)\n",
    "    print('Meu nome é: {}'.format(name))\n",
    "\n",
    "runtime = []\n",
    "threads = []\n",
    "names = ['Adson', 'Gabriel', 'Siqueira', 'Ronaldo', 'Gleilson',\n",
    "         'Emerson', 'Joselito', 'Piloto', 'Kleber', 'Mauricio']\n",
    "\n",
    "pool = ThreadPool(processes=4)\n",
    "start = time()\n",
    "\n",
    "## method apply\n",
    "for name in names:\n",
    "    async_result = pool.apply(print_names, (name,))\n",
    "    threads.append(async_result)\n",
    "    processo = current_process()\n",
    "\n",
    "end = time()\n",
    "print('process: tempo de execução da tradução: {}'.format(end - start))\n",
    "\n",
    "## method map\n",
    "start = time()\n",
    "\n",
    "for name in names:\n",
    "    async_result = pool.map(print_names, (name,))\n",
    "    threads.append(async_result)\n",
    "\n",
    "end = time()\n",
    "print('tempo de execução da tradução: {}'.format(end - start))\n",
    "\n",
    "## method apply async\n",
    "start = time()\n",
    "\n",
    "for name in names:\n",
    "    async_result = pool.apply_async(print_names, (name,))\n",
    "    threads.append(async_result)\n",
    "\n",
    "letters_list = [result.get(timeout=120) for result in threads]\n",
    "\n",
    "end = time()\n",
    "print('tempo de execução da tradução: {}'.format(end - start))\n",
    "\n",
    "## method map async\n",
    "start = time()\n",
    "\n",
    "for name in names:\n",
    "    async_result = pool.map_async(print_names, (name,))\n",
    "    threads.append(async_result)\n",
    "\n",
    "letters_list = [result.get() for result in threads]\n",
    "\n",
    "end = time()\n",
    "print('tempo de execução da tradução: {}'.format(end - start))"
   ]
  }
 ],
 "metadata": {
  "colab": {
   "collapsed_sections": [
    "VDe5pQnSogi1"
   ],
   "provenance": []
  },
  "kernelspec": {
   "display_name": "Python 3 (ipykernel)",
   "language": "python",
   "name": "python3"
  },
  "language_info": {
   "codemirror_mode": {
    "name": "ipython",
    "version": 3
   },
   "file_extension": ".py",
   "mimetype": "text/x-python",
   "name": "python",
   "nbconvert_exporter": "python",
   "pygments_lexer": "ipython3",
   "version": "3.10.6"
  }
 },
 "nbformat": 4,
 "nbformat_minor": 1
}
